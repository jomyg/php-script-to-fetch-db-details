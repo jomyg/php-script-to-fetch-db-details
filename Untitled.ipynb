{
 "cells": [
  {
   "cell_type": "markdown",
   "id": "1f9125b9",
   "metadata": {},
   "source": [
    "### Git class 06"
   ]
  },
  {
   "cell_type": "code",
   "execution_count": null,
   "id": "6185b474",
   "metadata": {},
   "outputs": [],
   "source": [
    "Today we going to test on a access-log file. Inorder to do this. I have wget this link and clear the unwanted space on top and end \n",
    "of the access file. http://www.almhuette-raith.at/apache-log/access.log\n",
    "    \n",
    "[root@ip-172-31-37-139 ~]# ls -lh\n",
    "total 9.9M\n",
    "-rw-r--r-- 1 root root 9.9M Mar 26 10:06 access.log           >>> I have download only 9.9 M of the file."
   ]
  },
  {
   "cell_type": "code",
   "execution_count": null,
   "id": "b236d7a4",
   "metadata": {},
   "outputs": [],
   "source": [
    "file = 'access.log'\n",
    "\n",
    "logFile = open(file,'r')\n",
    "\n",
    "for logLine in logFile:\n",
    "    \n",
    "  print(logLine)\n",
    "  break                        >>> If break used, it will print only first line      \n",
    "\n",
    "logFile.close()"
   ]
  },
  {
   "cell_type": "code",
   "execution_count": 7,
   "id": "e486ab01",
   "metadata": {},
   "outputs": [
    {
     "name": "stdout",
     "output_type": "stream",
     "text": [
      "['13.66.139.0', '-', '-', '[19/Dec/2020:13:57:26', '+0100]', '\"GET', '/index.php?option=com_phocagallery&view=category&id=1:almhuette-raith&Itemid=53', 'HTTP/1.1\"', '200', '32653', '\"-\"', '\"Mozilla/5.0', '(compatible;', 'bingbot/2.0;', '+http://www.bing.com/bingbot.htm)\"', '\"-\"']\n"
     ]
    }
   ],
   "source": [
    "fileName = 'access.log'\n",
    "\n",
    "logFile = open(fileName,'r')\n",
    "\n",
    "for logLine in logFile:\n",
    "    \n",
    "  print(logLine.split())         >>> So it will divide the line into multiple\n",
    "  break\n",
    "\n",
    "logFile.close()"
   ]
  },
  {
   "cell_type": "code",
   "execution_count": 15,
   "id": "841688e9",
   "metadata": {},
   "outputs": [
    {
     "name": "stdout",
     "output_type": "stream",
     "text": [
      "13.66.139.0\n"
     ]
    }
   ],
   "source": [
    "fileName = 'access.log'\n",
    "\n",
    "logFile = open(fileName,'r')\n",
    "\n",
    "for logLine in logFile:\n",
    "    \n",
    "  print(logLine.split()[0])        >> Using the 0 th position, we get the IP \n",
    "  break\n",
    "\n",
    "logFile.close()"
   ]
  },
  {
   "cell_type": "code",
   "execution_count": 17,
   "id": "75269d6e",
   "metadata": {},
   "outputs": [
    {
     "name": "stdout",
     "output_type": "stream",
     "text": [
      "13.66.139.0\n"
     ]
    }
   ],
   "source": [
    "file = 'access.log'\n",
    "\n",
    "logFile = open(file,'r')\n",
    "\n",
    "for logLine in logFile:\n",
    "    \n",
    "  Ip = logLine.split()[0]\n",
    "\n",
    "  print(Ip)\n",
    "  break\n",
    "\n",
    "logFile.close()"
   ]
  },
  {
   "cell_type": "markdown",
   "id": "668652af",
   "metadata": {},
   "source": [
    "#### Program to find the IPs of access logs and its hits if any IPs have more than 200 hits"
   ]
  },
  {
   "cell_type": "code",
   "execution_count": 18,
   "id": "08802997",
   "metadata": {},
   "outputs": [
    {
     "name": "stdout",
     "output_type": "stream",
     "text": [
      "45.145.161.12 680\n",
      "45.132.51.36 846\n",
      "45.138.145.131 856\n",
      "45.144.0.179 946\n",
      "194.156.95.52 676\n",
      "45.153.227.31 876\n",
      "45.138.4.22 880\n",
      "87.247.143.24 736\n",
      "45.144.0.98 826\n",
      "45.132.51.62 868\n",
      "176.222.58.254 934\n",
      "176.222.58.90 860\n",
      "45.132.207.154 890\n",
      "45.153.227.55 888\n",
      "87.247.143.30 640\n",
      "45.145.161.6 695\n",
      "194.156.95.20 662\n",
      "45.132.207.221 850\n",
      "45.138.145.106 848\n",
      "45.138.4.35 872\n",
      "5.188.62.147 225\n",
      "81.16.140.108 282\n",
      "45.129.198.148 252\n",
      "81.16.140.137 286\n",
      "45.133.219.22 304\n",
      "194.60.76.216 302\n",
      "81.16.140.97 292\n",
      "81.16.140.72 322\n",
      "45.133.219.37 276\n",
      "81.16.140.79 296\n",
      "45.88.82.91 286\n",
      "45.135.34.192 330\n",
      "81.16.140.109 324\n",
      "194.60.76.9 290\n",
      "45.88.82.121 322\n",
      "81.16.140.75 264\n",
      "45.129.198.146 289\n",
      "81.16.140.68 248\n",
      "45.138.6.229 296\n",
      "45.138.6.188 302\n",
      "45.135.34.239 318\n",
      "193.106.31.130 10953\n",
      "173.255.176.5 5220\n",
      "194.96.112.31 221\n"
     ]
    }
   ],
   "source": [
    "file = 'access.log'\n",
    "\n",
    "logFile = open(file,'r')\n",
    "\n",
    "freqCounter = {}\n",
    "\n",
    "for logLine in logFile:\n",
    "    \n",
    "  IP  = logLine.split()[0]\n",
    " \n",
    "  if IP not in freqCounter:\n",
    "    \n",
    "    freqCounter[IP] = 1\n",
    "    \n",
    "  else:\n",
    "    \n",
    "    freqCounter[IP] = freqCounter[IP] + 1\n",
    "\n",
    "logFile.close()\n",
    "\n",
    "\n",
    "for IP in freqCounter:\n",
    "    \n",
    "   hit = freqCounter[IP]\n",
    "\n",
    "   if hit >= 200:  \n",
    "        \n",
    "     print(IP,hit)"
   ]
  },
  {
   "cell_type": "markdown",
   "id": "421ca4a9",
   "metadata": {},
   "source": [
    "### string.format() function"
   ]
  },
  {
   "cell_type": "code",
   "execution_count": 19,
   "id": "2d590076",
   "metadata": {},
   "outputs": [
    {
     "name": "stdout",
     "output_type": "stream",
     "text": [
      "My car is bmw and its rate is 55000 \n"
     ]
    }
   ],
   "source": [
    "car = 'bmw'\n",
    "rate = '55000'\n",
    "\n",
    "string = 'My car is {} and its rate is {}'.format(car,rate)    >> Using format function, the placeholder will get subsitute the value\n",
    "\n",
    "print(string)"
   ]
  },
  {
   "cell_type": "code",
   "execution_count": 21,
   "id": "380f9866",
   "metadata": {},
   "outputs": [
    {
     "name": "stdout",
     "output_type": "stream",
     "text": [
      "45.145.161.12        - 680\n",
      "45.132.51.36         - 846\n",
      "45.138.145.131       - 856\n",
      "45.144.0.179         - 946\n",
      "194.156.95.52        - 676\n",
      "45.153.227.31        - 876\n",
      "45.138.4.22          - 880\n",
      "87.247.143.24        - 736\n",
      "45.144.0.98          - 826\n",
      "45.132.51.62         - 868\n",
      "176.222.58.254       - 934\n",
      "176.222.58.90        - 860\n",
      "45.132.207.154       - 890\n",
      "45.153.227.55        - 888\n",
      "87.247.143.30        - 640\n",
      "45.145.161.6         - 695\n",
      "194.156.95.20        - 662\n",
      "45.132.207.221       - 850\n",
      "45.138.145.106       - 848\n",
      "45.138.4.35          - 872\n",
      "81.16.140.108        - 282\n",
      "45.129.198.148       - 252\n",
      "81.16.140.137        - 286\n",
      "45.133.219.22        - 304\n",
      "194.60.76.216        - 302\n",
      "81.16.140.97         - 292\n",
      "81.16.140.72         - 322\n",
      "45.133.219.37        - 276\n",
      "81.16.140.79         - 296\n",
      "45.88.82.91          - 286\n",
      "45.135.34.192        - 330\n",
      "81.16.140.109        - 324\n",
      "194.60.76.9          - 290\n",
      "45.88.82.121         - 322\n",
      "81.16.140.75         - 264\n",
      "45.129.198.146       - 289\n",
      "45.138.6.229         - 296\n",
      "45.138.6.188         - 302\n",
      "45.135.34.239        - 318\n",
      "193.106.31.130       - 10953\n",
      "173.255.176.5        - 5220\n"
     ]
    }
   ],
   "source": [
    "file = 'access.log'\n",
    "\n",
    "logFile = open(file,'r')\n",
    "\n",
    "freqCounter = {}\n",
    "\n",
    "for logLine in logFile:\n",
    "    \n",
    "  IP  =logLine.split()[0]\n",
    "\n",
    "  if IP not in freqCounter:\n",
    "    \n",
    "    freqCounter[IP] = 1\n",
    "    \n",
    "  else:\n",
    "    \n",
    "    freqCounter[IP] = freqCounter[IP] + 1\n",
    "\n",
    "logFile.close()\n",
    "\n",
    "for IP in freqCounter:\n",
    "    \n",
    "   hit = freqCounter[IP]\n",
    "\n",
    "   if hit >= 200:\n",
    "        \n",
    "     out = '{:20} - {}'.format(IP,hit)    >> Here 17 means, it will create a cell to print the ouput as below for better look\n",
    "     print(out)"
   ]
  },
  {
   "cell_type": "markdown",
   "id": "3c1b4d52",
   "metadata": {},
   "source": [
    "### How can we exclude some ips on access-logs"
   ]
  },
  {
   "cell_type": "code",
   "execution_count": 24,
   "id": "3a0e3b34",
   "metadata": {},
   "outputs": [
    {
     "name": "stdout",
     "output_type": "stream",
     "text": [
      "45.138.145.131       - 856\n",
      "45.144.0.179         - 946\n",
      "194.156.95.52        - 676\n",
      "45.153.227.31        - 876\n",
      "45.138.4.22          - 880\n",
      "87.247.143.24        - 736\n",
      "45.144.0.98          - 826\n",
      "45.132.51.62         - 868\n",
      "176.222.58.254       - 934\n",
      "176.222.58.90        - 860\n",
      "45.132.207.154       - 890\n",
      "45.153.227.55        - 888\n",
      "87.247.143.30        - 640\n",
      "45.145.161.6         - 695\n",
      "194.156.95.20        - 662\n",
      "45.132.207.221       - 850\n",
      "45.138.145.106       - 848\n",
      "45.138.4.35          - 872\n",
      "5.188.62.147         - 225\n",
      "81.16.140.108        - 282\n",
      "45.129.198.148       - 252\n",
      "81.16.140.137        - 286\n",
      "45.133.219.22        - 304\n",
      "194.60.76.216        - 302\n",
      "81.16.140.97         - 292\n",
      "81.16.140.72         - 322\n",
      "45.133.219.37        - 276\n",
      "81.16.140.79         - 296\n",
      "45.88.82.91          - 286\n",
      "45.135.34.192        - 330\n",
      "81.16.140.109        - 324\n",
      "194.60.76.9          - 290\n",
      "45.88.82.121         - 322\n",
      "81.16.140.75         - 264\n",
      "45.129.198.146       - 289\n",
      "81.16.140.68         - 248\n",
      "45.138.6.229         - 296\n",
      "45.138.6.188         - 302\n",
      "45.135.34.239        - 318\n",
      "193.106.31.130       - 10953\n",
      "173.255.176.5        - 5220\n",
      "194.96.112.31        - 221\n"
     ]
    }
   ],
   "source": [
    "file = 'access.log'\n",
    "\n",
    "excludes = [ '45.145.161.12' , '45.132.51.36' ]       >> This Ip will not get print\n",
    "\n",
    "logFile = open(file,'r')\n",
    "\n",
    "freqCounter = {}\n",
    "\n",
    "for logLine in logFile:\n",
    "    \n",
    "  IP = logLine.split()[0]\n",
    "  \n",
    "  if IP not in excludes:\n",
    "    \n",
    "    if IP not in freqCounter:\n",
    "    \n",
    "      freqCounter[IP] = 1\n",
    "    \n",
    "    else:\n",
    "    \n",
    "      freqCounter[IP] = freqCounter[IP] + 1\n",
    "\n",
    "logFile.close()\n",
    "\n",
    "\n",
    "for IP in freqCounter:\n",
    "    \n",
    "   hit = freqCounter[IP]\n",
    "\n",
    "   if hit >= 200:\n",
    "        \n",
    "     out = '{:20} - {}'.format(IP,hit)\n",
    "    \n",
    "     print(out)"
   ]
  },
  {
   "cell_type": "markdown",
   "id": "82c51c29",
   "metadata": {},
   "source": [
    "### File Write"
   ]
  },
  {
   "cell_type": "code",
   "execution_count": 25,
   "id": "b797ad2a",
   "metadata": {},
   "outputs": [],
   "source": [
    "file = open('file1.txt','w')\n",
    "\n",
    "file.write('i am line1')\n",
    "file.write('i am line2')\n",
    "file.write('i am line3')\n",
    "file.write('i am line4')\n",
    "file.write('i am line5')\n",
    "\n",
    "file.close()"
   ]
  },
  {
   "cell_type": "code",
   "execution_count": 26,
   "id": "fab6a12b",
   "metadata": {},
   "outputs": [
    {
     "name": "stdout",
     "output_type": "stream",
     "text": [
      "i am line1i am line2i am line3i am line4i am line5"
     ]
    }
   ],
   "source": [
    "cat file1.txt                  >>> This will write the content with correct pattern. Use \\n to print crrtly"
   ]
  },
  {
   "cell_type": "code",
   "execution_count": 27,
   "id": "3da8d4e3",
   "metadata": {},
   "outputs": [],
   "source": [
    "file = open('file1.txt','w')      >>> w -> write \n",
    "\n",
    "file.write('line1\\n')\n",
    "file.write('line2\\n')\n",
    "file.write('line3\\n')\n",
    "file.write('line4\\n')\n",
    "file.write('line5\\n')\n",
    "\n",
    "file.close()"
   ]
  },
  {
   "cell_type": "code",
   "execution_count": 28,
   "id": "3fb3f013",
   "metadata": {},
   "outputs": [
    {
     "name": "stdout",
     "output_type": "stream",
     "text": [
      "line1\r\n",
      "line2\r\n",
      "line3\r\n",
      "line4\r\n",
      "line5\r\n"
     ]
    }
   ],
   "source": [
    "cat file1.txt"
   ]
  },
  {
   "cell_type": "markdown",
   "id": "374d78f6",
   "metadata": {},
   "source": [
    "### Find the IPs hits and save to a another file called \"sortlog.out\"\n",
    "\n",
    "-rw-r--r-- 1 root root      888 Mar 26 10:52 sortlog.out"
   ]
  },
  {
   "cell_type": "code",
   "execution_count": 42,
   "id": "4ab5a8bb",
   "metadata": {},
   "outputs": [
    {
     "name": "stdout",
     "output_type": "stream",
     "text": [
      "45.132.51.36         - 846\n",
      "\n",
      "45.138.145.131       - 856\n",
      "\n",
      "45.144.0.179         - 946\n",
      "\n",
      "194.156.95.52        - 676\n",
      "\n",
      "45.153.227.31        - 876\n",
      "\n",
      "45.138.4.22          - 880\n",
      "\n",
      "87.247.143.24        - 736\n",
      "\n",
      "45.144.0.98          - 826\n",
      "\n",
      "45.132.51.62         - 868\n",
      "\n",
      "176.222.58.254       - 934\n",
      "\n",
      "176.222.58.90        - 860\n",
      "\n",
      "45.132.207.154       - 890\n",
      "\n",
      "45.153.227.55        - 888\n",
      "\n",
      "87.247.143.30        - 640\n",
      "\n",
      "45.145.161.6         - 695\n",
      "\n",
      "194.156.95.20        - 662\n",
      "\n",
      "45.132.207.221       - 850\n",
      "\n",
      "45.138.145.106       - 848\n",
      "\n",
      "45.138.4.35          - 872\n",
      "\n",
      "5.188.62.147         - 225\n",
      "\n",
      "81.16.140.108        - 282\n",
      "\n",
      "45.129.198.148       - 252\n",
      "\n",
      "81.16.140.137        - 286\n",
      "\n",
      "45.133.219.22        - 304\n",
      "\n",
      "194.60.76.216        - 302\n",
      "\n",
      "81.16.140.97         - 292\n",
      "\n",
      "81.16.140.72         - 322\n",
      "\n",
      "45.133.219.37        - 276\n",
      "\n",
      "81.16.140.79         - 296\n",
      "\n",
      "45.88.82.91          - 286\n",
      "\n",
      "45.135.34.192        - 330\n",
      "\n",
      "81.16.140.109        - 324\n",
      "\n",
      "194.60.76.9          - 290\n",
      "\n",
      "45.88.82.121         - 322\n",
      "\n",
      "81.16.140.75         - 264\n",
      "\n",
      "45.129.198.146       - 289\n",
      "\n",
      "81.16.140.68         - 248\n",
      "\n",
      "45.138.6.229         - 296\n",
      "\n",
      "45.138.6.188         - 302\n",
      "\n",
      "194.96.112.31        - 221\n",
      "\n"
     ]
    }
   ],
   "source": [
    "file = 'access.log'\n",
    "\n",
    "excludes = [ '193.106.31.130' , '173.255.176.5' , '45.135.34.239' , '45.145.161.12']\n",
    "\n",
    "logFile = open(file,'r')                >> source file to read\n",
    "\n",
    "logResult = open('sortlog.out','w')    >> dest file to write\n",
    "\n",
    "freqCounter = {}\n",
    "\n",
    "for logLine in logFile:\n",
    "    \n",
    "  remoteIp  = logLine.split()[0]\n",
    "  \n",
    "  if remoteIp not in excludes:\n",
    "    \n",
    "    if remoteIp not in freqCounter:\n",
    "    \n",
    "      freqCounter[remoteIp] = 1\n",
    "    \n",
    "    else:\n",
    "    \n",
    "      freqCounter[remoteIp] = freqCounter[remoteIp] + 1\n",
    "\n",
    "logFile.close()\n",
    "\n",
    "\n",
    "for remoteIp in freqCounter:\n",
    "    \n",
    "   hit = freqCounter[remoteIp]\n",
    "\n",
    "   if hit >= 200:\n",
    "        \n",
    "     out = '{:20} - {}\\n'.format(remoteIp,hit)\n",
    "      \n",
    "     logResult.write(out)\n",
    "    \n",
    "     print(out)\n",
    "\n",
    "logResult.close()"
   ]
  },
  {
   "cell_type": "code",
   "execution_count": 43,
   "id": "7b61b630",
   "metadata": {},
   "outputs": [
    {
     "name": "stdout",
     "output_type": "stream",
     "text": [
      "45.132.51.36         - 846\r\n",
      "45.138.145.131       - 856\r\n",
      "45.144.0.179         - 946\r\n",
      "194.156.95.52        - 676\r\n",
      "45.153.227.31        - 876\r\n",
      "45.138.4.22          - 880\r\n",
      "87.247.143.24        - 736\r\n",
      "45.144.0.98          - 826\r\n",
      "45.132.51.62         - 868\r\n",
      "176.222.58.254       - 934\r\n",
      "176.222.58.90        - 860\r\n",
      "45.132.207.154       - 890\r\n",
      "45.153.227.55        - 888\r\n",
      "87.247.143.30        - 640\r\n",
      "45.145.161.6         - 695\r\n",
      "194.156.95.20        - 662\r\n",
      "45.132.207.221       - 850\r\n",
      "45.138.145.106       - 848\r\n",
      "45.138.4.35          - 872\r\n",
      "5.188.62.147         - 225\r\n",
      "81.16.140.108        - 282\r\n",
      "45.129.198.148       - 252\r\n",
      "81.16.140.137        - 286\r\n",
      "45.133.219.22        - 304\r\n",
      "194.60.76.216        - 302\r\n",
      "81.16.140.97         - 292\r\n",
      "81.16.140.72         - 322\r\n",
      "45.133.219.37        - 276\r\n",
      "81.16.140.79         - 296\r\n",
      "45.88.82.91          - 286\r\n",
      "45.135.34.192        - 330\r\n",
      "81.16.140.109        - 324\r\n",
      "194.60.76.9          - 290\r\n",
      "45.88.82.121         - 322\r\n",
      "81.16.140.75         - 264\r\n",
      "45.129.198.146       - 289\r\n",
      "81.16.140.68         - 248\r\n",
      "45.138.6.229         - 296\r\n",
      "45.138.6.188         - 302\r\n",
      "194.96.112.31        - 221\r\n"
     ]
    }
   ],
   "source": [
    "! cat sortlog.out             >>> The above dest file"
   ]
  },
  {
   "cell_type": "markdown",
   "id": "3d302bab",
   "metadata": {},
   "source": [
    "### How to save the file lines to another without the commented lines"
   ]
  },
  {
   "cell_type": "code",
   "execution_count": null,
   "id": "f06e8b14",
   "metadata": {},
   "outputs": [],
   "source": [
    "[root@ip-172-31-37-139 python-class-notes]# cat sample.txt\n",
    "You may have heard of Unix, which is an operating system\n",
    "#developed in the 1970s at Bell Labs by Ken Thompson,\n",
    "Dennis Ritchie, and others. Unix and Linux are similar\n",
    "in many ways, and in fact, Linux was originally created\n",
    "#to be indistinguishable from Unix. Both have similar\n",
    "#tools for interfacing with the system, programming\n",
    "tools, filesystem layouts, and other key components.\n",
    "However, not all Unices are free and open source.\n",
    "Linux is also different in that, although the core pieces\n",
    "#of the Linux operating system are generally common, there\n",
    "are many distributions of Linux, which include different\n",
    "#software options. This means that Linux is incredibly\n",
    "#customizable, because not just applications, such as word\n",
    "processors and web browsers, can be swapped out. Linux users\n",
    "also can choose core components, such as which system\n",
    "#displays graphics, and other user-interface components\n",
    "Although there are numerous distributions available, most of\n",
    "the older, well-known distributions are good choices for\n",
    "beginners because they have large user communities that\n",
    "can help answer questions if you get\n",
    "stuck or can figure things out."
   ]
  },
  {
   "cell_type": "code",
   "execution_count": 46,
   "id": "aced3439",
   "metadata": {},
   "outputs": [],
   "source": [
    "srcFile = open('sample.txt','r')\n",
    "dstFile = open('output.txt','w')\n",
    "\n",
    "for line in srcFile:\n",
    "    \n",
    "  if not line.startswith('#'):\n",
    "    \n",
    "    dstFile.write(line)\n",
    "    \n",
    "srcFile.close()\n",
    "dstFile.close()"
   ]
  },
  {
   "cell_type": "code",
   "execution_count": 47,
   "id": "22d24b2a",
   "metadata": {},
   "outputs": [
    {
     "name": "stdout",
     "output_type": "stream",
     "text": [
      "You may have heard of Unix, which is an operating system\r\n",
      "Dennis Ritchie, and others. Unix and Linux are similar \r\n",
      "in many ways, and in fact, Linux was originally created \r\n",
      "tools, filesystem layouts, and other key components. \r\n",
      "However, not all Unices are free and open source.\r\n",
      "Linux is also different in that, although the core pieces\r\n",
      "are many distributions of Linux, which include different \r\n",
      "processors and web browsers, can be swapped out. Linux users \r\n",
      "also can choose core components, such as which system \r\n",
      "Although there are numerous distributions available, most of \r\n",
      "the older, well-known distributions are good choices for \r\n",
      "beginners because they have large user communities that \r\n",
      "can help answer questions if you get \r\n",
      "stuck or can figure things out.\r\n"
     ]
    }
   ],
   "source": [
    "! cat output.txt      >> Commented lines to copied to output.txt"
   ]
  },
  {
   "cell_type": "markdown",
   "id": "e19b0305",
   "metadata": {},
   "source": [
    "### strip string function"
   ]
  },
  {
   "cell_type": "code",
   "execution_count": null,
   "id": "dd89e685",
   "metadata": {},
   "outputs": [],
   "source": [
    "strip() is an inbuilt function in Python programming language that returns a copy of the string with both leading and \n",
    "trailing characters removed (based on the string argument passed)"
   ]
  },
  {
   "cell_type": "code",
   "execution_count": 48,
   "id": "6e9a43ff",
   "metadata": {},
   "outputs": [],
   "source": [
    "string1 = ' characters removed  '\n",
    "string2 = '##characters removed ###'"
   ]
  },
  {
   "cell_type": "code",
   "execution_count": 49,
   "id": "04d86036",
   "metadata": {},
   "outputs": [
    {
     "data": {
      "text/plain": [
       "' characters removed  '"
      ]
     },
     "execution_count": 49,
     "metadata": {},
     "output_type": "execute_result"
    }
   ],
   "source": [
    "string1"
   ]
  },
  {
   "cell_type": "code",
   "execution_count": 50,
   "id": "7b17ee6d",
   "metadata": {},
   "outputs": [
    {
     "data": {
      "text/plain": [
       "'characters removed'"
      ]
     },
     "execution_count": 50,
     "metadata": {},
     "output_type": "execute_result"
    }
   ],
   "source": [
    "string1.strip()"
   ]
  },
  {
   "cell_type": "code",
   "execution_count": 51,
   "id": "675fc8ee",
   "metadata": {},
   "outputs": [
    {
     "data": {
      "text/plain": [
       "' characters removed'"
      ]
     },
     "execution_count": 51,
     "metadata": {},
     "output_type": "execute_result"
    }
   ],
   "source": [
    "string1.rstrip()           >> r means right side"
   ]
  },
  {
   "cell_type": "code",
   "execution_count": 52,
   "id": "8f8f8206",
   "metadata": {},
   "outputs": [
    {
     "data": {
      "text/plain": [
       "'characters removed  '"
      ]
     },
     "execution_count": 52,
     "metadata": {},
     "output_type": "execute_result"
    }
   ],
   "source": [
    "string1.lstrip()          >> l means left side"
   ]
  },
  {
   "cell_type": "code",
   "execution_count": 53,
   "id": "673c04f0",
   "metadata": {},
   "outputs": [
    {
     "data": {
      "text/plain": [
       "'characters removed '"
      ]
     },
     "execution_count": 53,
     "metadata": {},
     "output_type": "execute_result"
    }
   ],
   "source": [
    "string2.strip('#')           >> Removed the # on the string"
   ]
  },
  {
   "cell_type": "code",
   "execution_count": 54,
   "id": "a7090459",
   "metadata": {},
   "outputs": [
    {
     "data": {
      "text/plain": [
       "'characters removed ###'"
      ]
     },
     "execution_count": 54,
     "metadata": {},
     "output_type": "execute_result"
    }
   ],
   "source": [
    "string2.lstrip('#')        > Removed the left side #"
   ]
  },
  {
   "cell_type": "code",
   "execution_count": 55,
   "id": "87c3d572",
   "metadata": {},
   "outputs": [
    {
     "data": {
      "text/plain": [
       "'##characters removed '"
      ]
     },
     "execution_count": 55,
     "metadata": {},
     "output_type": "execute_result"
    }
   ],
   "source": [
    "string2.rstrip('#')       > Removed the right side #"
   ]
  },
  {
   "cell_type": "code",
   "execution_count": 56,
   "id": "7259f768",
   "metadata": {},
   "outputs": [],
   "source": [
    "srcFile = open('sample.txt','r')\n",
    "dstFile = open('output.txt','w')\n",
    "\n",
    "for line in srcFile:\n",
    "    \n",
    "  dstFile.write(line.lstrip('#'))\n",
    "    \n",
    "srcFile.close()\n",
    "dstFile.close()"
   ]
  },
  {
   "cell_type": "code",
   "execution_count": 57,
   "id": "2df7a0e2",
   "metadata": {},
   "outputs": [
    {
     "name": "stdout",
     "output_type": "stream",
     "text": [
      "You may have heard of Unix, which is an operating system\r\n",
      "developed in the 1970s at Bell Labs by Ken Thompson, \r\n",
      "Dennis Ritchie, and others. Unix and Linux are similar \r\n",
      "in many ways, and in fact, Linux was originally created \r\n",
      "to be indistinguishable from Unix. Both have similar \r\n",
      "tools for interfacing with the system, programming \r\n",
      "tools, filesystem layouts, and other key components. \r\n",
      "However, not all Unices are free and open source.\r\n",
      "Linux is also different in that, although the core pieces\r\n",
      "of the Linux operating system are generally common, there \r\n",
      "are many distributions of Linux, which include different \r\n",
      "software options. This means that Linux is incredibly \r\n",
      "customizable, because not just applications, such as word \r\n",
      "processors and web browsers, can be swapped out. Linux users \r\n",
      "also can choose core components, such as which system \r\n",
      "displays graphics, and other user-interface components\r\n",
      "Although there are numerous distributions available, most of \r\n",
      "the older, well-known distributions are good choices for \r\n",
      "beginners because they have large user communities that \r\n",
      "can help answer questions if you get \r\n",
      "stuck or can figure things out.\r\n"
     ]
    }
   ],
   "source": [
    "! cat output.txt      >>> Removed the # on the src file and copied all to output.txt "
   ]
  },
  {
   "cell_type": "code",
   "execution_count": 58,
   "id": "0ed5c5de",
   "metadata": {},
   "outputs": [],
   "source": [
    "import os\n",
    "\n",
    "srcFile = open('sample.txt','r')\n",
    "dstFile = open('output.txt','w')\n",
    "\n",
    "for line in srcFile:\n",
    "    \n",
    "  dstFile.write(line.lstrip('#'))\n",
    "    \n",
    "srcFile.close()\n",
    "dstFile.close()\n",
    "\n",
    "os.rename('output.txt','sample.txt')        >>>  And now renamed the new copy to main orginal file"
   ]
  },
  {
   "cell_type": "code",
   "execution_count": 59,
   "id": "3cb758cb",
   "metadata": {},
   "outputs": [
    {
     "name": "stdout",
     "output_type": "stream",
     "text": [
      "You may have heard of Unix, which is an operating system\r\n",
      "developed in the 1970s at Bell Labs by Ken Thompson, \r\n",
      "Dennis Ritchie, and others. Unix and Linux are similar \r\n",
      "in many ways, and in fact, Linux was originally created \r\n",
      "to be indistinguishable from Unix. Both have similar \r\n",
      "tools for interfacing with the system, programming \r\n",
      "tools, filesystem layouts, and other key components. \r\n",
      "However, not all Unices are free and open source.\r\n",
      "Linux is also different in that, although the core pieces\r\n",
      "of the Linux operating system are generally common, there \r\n",
      "are many distributions of Linux, which include different \r\n",
      "software options. This means that Linux is incredibly \r\n",
      "customizable, because not just applications, such as word \r\n",
      "processors and web browsers, can be swapped out. Linux users \r\n",
      "also can choose core components, such as which system \r\n",
      "displays graphics, and other user-interface components\r\n",
      "Although there are numerous distributions available, most of \r\n",
      "the older, well-known distributions are good choices for \r\n",
      "beginners because they have large user communities that \r\n",
      "can help answer questions if you get \r\n",
      "stuck or can figure things out.\r\n"
     ]
    }
   ],
   "source": [
    "! cat sample.txt   >> File with new contents with no #"
   ]
  },
  {
   "cell_type": "markdown",
   "id": "0bc03e61",
   "metadata": {},
   "source": [
    "### logparser python module >> This is fuji sir custom made module"
   ]
  },
  {
   "cell_type": "code",
   "execution_count": null,
   "id": "3ab76c7f",
   "metadata": {},
   "outputs": [],
   "source": [
    "python-class-notes]# cat logparser.py\n",
    "#!/usr/bin/env  python3\n",
    "\n",
    "\n",
    "\n",
    "import re\n",
    "\n",
    "\n",
    "regex_host = r'(?P<host>.*?)'\n",
    "regex_identity = r'(?P<identity>\\S+)'\n",
    "regex_user = r'(?P<user>\\S+)'\n",
    "regex_time = r'\\[(?P<time>.*?)\\]'\n",
    "regex_request = r'\\\"(?P<request>.*?)\\\"'\n",
    "regex_status = r'(?P<status>\\d{3})'\n",
    "regex_size = r'(?P<size>\\S+)'\n",
    "regex_referer = r'\\\"(?P<referer>.*?)\\\"'\n",
    "regex_agent = r'\\\"(?P<agent>.*?)\\\"'\n",
    "regex_space = r'\\s'\n",
    "\n",
    "pattern = regex_host + regex_space + regex_identity + regex_space + \\\n",
    "          regex_user + regex_space + regex_time + regex_space + \\\n",
    "                  regex_request + regex_space + regex_status + regex_space + \\\n",
    "                  regex_size + regex_space + regex_referer + regex_space + \\\n",
    "                  regex_agent\n",
    "\n",
    "\n",
    "def parser(s):\n",
    "        \"\"\"\n",
    "        return type : dict()\n",
    "        return format: {\n",
    "                       host:str , identity:str , user:str ,\n",
    "                                           time:str ,request:str , status:str ,\n",
    "                                           size:str , referer:str, agent:str\n",
    "                                        }\n",
    "        returns None if failed.\n",
    "        \"\"\"\n",
    "        try:\n",
    "                parts = re.match(pattern,s)\n",
    "                return parts.groupdict()\n",
    "        except Exception as err:\n",
    "                print(err)"
   ]
  },
  {
   "cell_type": "code",
   "execution_count": 61,
   "id": "e187861a",
   "metadata": {},
   "outputs": [
    {
     "name": "stdout",
     "output_type": "stream",
     "text": [
      "13.66.139.0 - - [19/Dec/2020:13:57:26 +0100] \"GET /index.php?option=com_phocagallery&view=category&id=1:almhuette-raith&Itemid=53 HTTP/1.1\" 200 32653 \"-\" \"Mozilla/5.0 (compatible; bingbot/2.0; +http://www.bing.com/bingbot.htm)\" \"-\"\n",
      "\n",
      "\n",
      "['13.66.139.0', '-', '-', '[19/Dec/2020:13:57:26', '+0100]', '\"GET', '/index.php?option=com_phocagallery&view=category&id=1:almhuette-raith&Itemid=53', 'HTTP/1.1\"', '200', '32653', '\"-\"', '\"Mozilla/5.0', '(compatible;', 'bingbot/2.0;', '+http://www.bing.com/bingbot.htm)\"', '\"-\"']\n",
      "\n",
      "{'host': '13.66.139.0', 'identity': '-', 'user': '-', 'time': '19/Dec/2020:13:57:26 +0100', 'request': 'GET /index.php?option=com_phocagallery&view=category&id=1:almhuette-raith&Itemid=53 HTTP/1.1', 'status': '200', 'size': '32653', 'referer': '-', 'agent': 'Mozilla/5.0 (compatible; bingbot/2.0; +http://www.bing.com/bingbot.htm)'}\n"
     ]
    }
   ],
   "source": [
    "import logparser\n",
    "\n",
    "logfile = open('access.log','r')\n",
    "\n",
    "for logLine in logfile:\n",
    "    \n",
    "  print(logLine)\n",
    "  print()\n",
    "  \n",
    "  print(logLine.split())\n",
    "  print()\n",
    "\n",
    "  print(logparser.parser(logLine))  >> Using logparser, this will print as dict\n",
    "  break\n",
    "\n",
    "logfile.close()"
   ]
  },
  {
   "cell_type": "markdown",
   "id": "6a1d216c",
   "metadata": {},
   "source": [
    "### Find the 200 status per day on the access-log"
   ]
  },
  {
   "cell_type": "code",
   "execution_count": 63,
   "id": "ba119543",
   "metadata": {},
   "outputs": [
    {
     "name": "stdout",
     "output_type": "stream",
     "text": [
      "The 200 status Ips count on the access-logs :  45.145.161.12        - 656\n",
      "The 200 status Ips count on the access-logs :  45.132.51.36         - 801\n",
      "The 200 status Ips count on the access-logs :  45.138.145.131       - 820\n",
      "The 200 status Ips count on the access-logs :  45.144.0.179         - 906\n",
      "The 200 status Ips count on the access-logs :  194.156.95.52        - 643\n",
      "The 200 status Ips count on the access-logs :  45.153.227.31        - 834\n",
      "The 200 status Ips count on the access-logs :  45.138.4.22          - 830\n",
      "The 200 status Ips count on the access-logs :  87.247.143.24        - 700\n",
      "The 200 status Ips count on the access-logs :  45.144.0.98          - 783\n",
      "The 200 status Ips count on the access-logs :  45.132.51.62         - 828\n",
      "The 200 status Ips count on the access-logs :  176.222.58.254       - 882\n",
      "The 200 status Ips count on the access-logs :  176.222.58.90        - 812\n",
      "The 200 status Ips count on the access-logs :  45.132.207.154       - 845\n",
      "The 200 status Ips count on the access-logs :  45.153.227.55        - 837\n",
      "The 200 status Ips count on the access-logs :  87.247.143.30        - 616\n",
      "The 200 status Ips count on the access-logs :  45.145.161.6         - 663\n",
      "The 200 status Ips count on the access-logs :  194.156.95.20        - 631\n",
      "The 200 status Ips count on the access-logs :  45.132.207.221       - 805\n",
      "The 200 status Ips count on the access-logs :  45.138.145.106       - 803\n",
      "The 200 status Ips count on the access-logs :  45.138.4.35          - 818\n",
      "The 200 status Ips count on the access-logs :  81.16.140.72         - 308\n",
      "The 200 status Ips count on the access-logs :  45.135.34.192        - 312\n",
      "The 200 status Ips count on the access-logs :  81.16.140.109        - 308\n",
      "The 200 status Ips count on the access-logs :  45.88.82.121         - 306\n",
      "The 200 status Ips count on the access-logs :  45.135.34.239        - 303\n",
      "The 200 status Ips count on the access-logs :  193.106.31.130       - 10953\n",
      "The 200 status Ips count on the access-logs :  173.255.176.5        - 2154\n"
     ]
    }
   ],
   "source": [
    "import logparser\n",
    "\n",
    "file = 'access.log'\n",
    "\n",
    "logFile = open(file,'r')\n",
    "\n",
    "freqCounter = {}\n",
    "\n",
    "for logLine in logFile:\n",
    "    \n",
    "  logParts = logparser.parser(logLine)\n",
    "\n",
    "  IP = logParts['host'] \n",
    "    \n",
    "  remoteStatus = logParts['status']\n",
    "\n",
    "  \n",
    "  if remoteStatus == '200':\n",
    "    \n",
    "    if IP not in freqCounter:\n",
    "    \n",
    "      freqCounter[IP] = 1\n",
    "    \n",
    "    else:\n",
    "    \n",
    "      freqCounter[IP] = freqCounter[IP] + 1\n",
    "\n",
    "logFile.close()\n",
    "\n",
    "\n",
    "for IP in freqCounter:\n",
    "    \n",
    "   hit = freqCounter[IP]\n",
    "\n",
    "   if hit >= 300:\n",
    "        \n",
    "     out = '{:20} - {}'.format(IP,hit)\n",
    "    \n",
    "     print(\"The 200 status Ips count on the access-logs : \",out)"
   ]
  },
  {
   "cell_type": "markdown",
   "id": "cdd6288f",
   "metadata": {},
   "source": [
    "### How to find the perday status 200 on log file"
   ]
  },
  {
   "cell_type": "code",
   "execution_count": 71,
   "id": "38fbd640",
   "metadata": {},
   "outputs": [
    {
     "name": "stdout",
     "output_type": "stream",
     "text": [
      "19/Dec/2020 - 1135\n",
      "20/Dec/2020 - 3698\n",
      "21/Dec/2020 - 3982\n",
      "22/Dec/2020 - 3645\n",
      "23/Dec/2020 - 3856\n",
      "24/Dec/2020 - 3607\n",
      "25/Dec/2020 - 5644\n",
      "26/Dec/2020 - 2269\n",
      "27/Dec/2020 - 2181\n",
      "28/Dec/2020 - 7478\n",
      "29/Dec/2020 - 2919\n",
      "30/Dec/2020 - 2389\n",
      "31/Dec/2020 - 2067\n",
      "01/Jan/2021 - 760\n"
     ]
    }
   ],
   "source": [
    "import logparser\n",
    "\n",
    "file = 'access.log'\n",
    "\n",
    "logFile = open(file,'r')\n",
    "\n",
    "freqCounter = {}\n",
    "\n",
    "for logLine in logFile:\n",
    "    \n",
    "  logparts = logparser.parser(logLine)\n",
    "\n",
    "  logDate = logparts['time'][0:11]     >>> cell creation\n",
    "    \n",
    "  logStatus =  logParts['status']\n",
    "  \n",
    "  if logStatus == '200':              >> Required status\n",
    "   \n",
    "    if logDate not in freqCounter:\n",
    "        \n",
    "      freqCounter[logDate] = 1\n",
    "    \n",
    "    else:\n",
    "        \n",
    "      freqCounter[logDate] = freqCounter[logDate] + 1\n",
    "\n",
    "logFile.close()\n",
    "\n",
    "for key in freqCounter:\n",
    "    \n",
    "  value = freqCounter[key]\n",
    "  \n",
    "  print('{} - {}'.format(key,value))"
   ]
  },
  {
   "cell_type": "markdown",
   "id": "aed946c9",
   "metadata": {},
   "source": [
    "### How to find out the count of all status code in a access log file"
   ]
  },
  {
   "cell_type": "code",
   "execution_count": 84,
   "id": "894316b2",
   "metadata": {},
   "outputs": [
    {
     "name": "stdout",
     "output_type": "stream",
     "text": [
      "{'19/Dec/2020': {'200': 1029, '404': 50, '303': 56}, '20/Dec/2020': {'200': 3472, '303': 170, '404': 55, '301': 1}, '21/Dec/2020': {'200': 3749, '303': 170, '404': 60, '301': 3}, '22/Dec/2020': {'200': 3357, '303': 162, '301': 1, '404': 125}, '23/Dec/2020': {'200': 3550, '303': 134, '404': 138, '206': 34}, '24/Dec/2020': {'200': 3365, '303': 181, '404': 59, '206': 1, '301': 1}, '25/Dec/2020': {'200': 5317, '404': 81, '303': 246}, '26/Dec/2020': {'200': 2177, '404': 64, '303': 28}, '27/Dec/2020': {'404': 73, '200': 2108}, '28/Dec/2020': {'404': 2183, '200': 4227, '206': 59, '301': 948, '403': 34, '400': 1, '304': 26}, '29/Dec/2020': {'200': 2616, '404': 211, '304': 61, '403': 27, '301': 1, '206': 3}, '30/Dec/2020': {'200': 2246, '404': 143}, '31/Dec/2020': {'404': 139, '200': 1928}, '01/Jan/2021': {'200': 732, '404': 28}}\n"
     ]
    }
   ],
   "source": [
    "import logparser\n",
    "\n",
    "fileName = 'access.log'\n",
    "\n",
    "logFile = open(fileName,'r')\n",
    "\n",
    "counter = {}\n",
    "\n",
    "for logLine in logFile:\n",
    "    \n",
    "  logParts = logparser.parser(logLine)\n",
    "\n",
    "  logDate = logParts['time'][0:11]\n",
    "    \n",
    "  logStatus =  logParts['status']\n",
    "\n",
    "  if logDate not in counter:\n",
    "        \n",
    "    counter[logDate] = { logStatus:1 }\n",
    "  \n",
    "  else:\n",
    "    \n",
    "    if logStatus not in counter[logDate]:\n",
    "        \n",
    "      counter[logDate][logStatus] = 1\n",
    "    \n",
    "    else:\n",
    "       \n",
    "      counter[logDate][logStatus] = counter[logDate][logStatus] + 1\n",
    "        \n",
    "print(counter)"
   ]
  },
  {
   "cell_type": "code",
   "execution_count": 78,
   "id": "47f6b852",
   "metadata": {},
   "outputs": [],
   "source": [
    "import logparser\n",
    "\n",
    "fileName = 'access.log'\n",
    "\n",
    "logFile = open(fileName,'r')\n",
    "\n",
    "counter = {}\n",
    "\n",
    "for logLine in logFile:\n",
    "    \n",
    "  logParts = logparser.parser(logLine)\n",
    "\n",
    "  logDate = logParts['time'][0:11]\n",
    "    \n",
    "  logStatus =  logParts['status']\n",
    "\n",
    "  if logDate not in counter:\n",
    "        \n",
    "    counter[logDate] = { logStatus:1 }\n",
    "  \n",
    "  else:\n",
    "    \n",
    "    if logStatus not in counter[logDate]:\n",
    "        \n",
    "      counter[logDate][logStatus] = 1\n",
    "    \n",
    "    else:\n",
    "       \n",
    "      counter[logDate][logStatus] = counter[logDate][logStatus] + 1\n",
    "        "
   ]
  },
  {
   "cell_type": "code",
   "execution_count": 79,
   "id": "30a8c8da",
   "metadata": {},
   "outputs": [
    {
     "data": {
      "text/plain": [
       "{'19/Dec/2020': {'200': 1029, '404': 50, '303': 56},\n",
       " '20/Dec/2020': {'200': 3472, '303': 170, '404': 55, '301': 1},\n",
       " '21/Dec/2020': {'200': 3749, '303': 170, '404': 60, '301': 3},\n",
       " '22/Dec/2020': {'200': 3357, '303': 162, '301': 1, '404': 125},\n",
       " '23/Dec/2020': {'200': 3550, '303': 134, '404': 138, '206': 34},\n",
       " '24/Dec/2020': {'200': 3365, '303': 181, '404': 59, '206': 1, '301': 1},\n",
       " '25/Dec/2020': {'200': 5317, '404': 81, '303': 246},\n",
       " '26/Dec/2020': {'200': 2177, '404': 64, '303': 28},\n",
       " '27/Dec/2020': {'404': 73, '200': 2108},\n",
       " '28/Dec/2020': {'404': 2183,\n",
       "  '200': 4227,\n",
       "  '206': 59,\n",
       "  '301': 948,\n",
       "  '403': 34,\n",
       "  '400': 1,\n",
       "  '304': 26},\n",
       " '29/Dec/2020': {'200': 2616,\n",
       "  '404': 211,\n",
       "  '304': 61,\n",
       "  '403': 27,\n",
       "  '301': 1,\n",
       "  '206': 3},\n",
       " '30/Dec/2020': {'200': 2246, '404': 143},\n",
       " '31/Dec/2020': {'404': 139, '200': 1928},\n",
       " '01/Jan/2021': {'200': 732, '404': 28}}"
      ]
     },
     "execution_count": 79,
     "metadata": {},
     "output_type": "execute_result"
    }
   ],
   "source": [
    "counter"
   ]
  },
  {
   "cell_type": "code",
   "execution_count": null,
   "id": "cd5b46b1",
   "metadata": {},
   "outputs": [],
   "source": []
  }
 ],
 "metadata": {
  "kernelspec": {
   "display_name": "Python 3 (ipykernel)",
   "language": "python",
   "name": "python3"
  },
  "language_info": {
   "codemirror_mode": {
    "name": "ipython",
    "version": 3
   },
   "file_extension": ".py",
   "mimetype": "text/x-python",
   "name": "python",
   "nbconvert_exporter": "python",
   "pygments_lexer": "ipython3",
   "version": "3.7.10"
  }
 },
 "nbformat": 4,
 "nbformat_minor": 5
}
